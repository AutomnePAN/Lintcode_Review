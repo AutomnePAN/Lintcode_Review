{
 "cells": [
  {
   "cell_type": "markdown",
   "metadata": {},
   "source": [
    "# Subsets with Dublicate Elements\n",
    "---------------------------------------------"
   ]
  },
  {
   "cell_type": "markdown",
   "metadata": {},
   "source": [
    "Given a collection of integers that might contain duplicates, nums, return all possible subsets (the power set)."
   ]
  },
  {
   "cell_type": "markdown",
   "metadata": {},
   "source": [
    "## Trivial Solution\n",
    "----------------"
   ]
  },
  {
   "cell_type": "markdown",
   "metadata": {},
   "source": [
    "**Time Complexity: $O(n^3)$**"
   ]
  },
  {
   "cell_type": "code",
   "execution_count": 10,
   "metadata": {},
   "outputs": [],
   "source": [
    "class Solution:\n",
    "    \"\"\"\n",
    "    @param nums: A set of numbers.\n",
    "    @return: A list of lists. All valid subsets.\n",
    "    \"\"\"\n",
    "    def subsetsWithDup(self, nums):\n",
    "        if len(nums) == 0:\n",
    "            return [[]];\n",
    "        if len(nums) == 1:\n",
    "            return [nums];\n",
    "        n = len(nums);\n",
    "        nums.sort();\n",
    "        res = [[]];\n",
    "        for num in nums:\n",
    "#             print(num)\n",
    "            m = len(res)\n",
    "            for i in range(m):\n",
    "#                 print(res[i])\n",
    "                if res[i] + [num] not in res:\n",
    "                    res.append(res[i] + [num]);\n",
    "        return res\n",
    "            "
   ]
  },
  {
   "cell_type": "code",
   "execution_count": 13,
   "metadata": {
    "scrolled": true
   },
   "outputs": [
    {
     "data": {
      "text/plain": [
       "72"
      ]
     },
     "execution_count": 13,
     "metadata": {},
     "output_type": "execute_result"
    }
   ],
   "source": [
    "s = Solution();\n",
    "len(s.subsetsWithDup([1,1,2,2,3,4,5]))"
   ]
  },
  {
   "cell_type": "markdown",
   "metadata": {},
   "source": [
    "## DFS Solution\n",
    "--------------------------------"
   ]
  },
  {
   "cell_type": "code",
   "execution_count": 86,
   "metadata": {},
   "outputs": [],
   "source": [
    "class Solution:\n",
    "    \"\"\"\n",
    "    @param nums: A set of numbers.\n",
    "    @return: A list of lists. All valid subsets.\n",
    "    \"\"\"\n",
    "    def subsetsWithDup(self, nums):\n",
    "        if len(nums) == 0:\n",
    "            return [[]];\n",
    "        nums.sort();\n",
    "        \n",
    "        def _subsetsWithDup(nums, res, temp):\n",
    "            if nums == []:\n",
    "                if temp not in res:\n",
    "                    res.append(temp);\n",
    "                return\n",
    "            \n",
    "            for i in range(len(nums) + 1):\n",
    "                if i < len(nums):_subsetsWithDup(nums[i+1:], res, temp + [nums[i]]);\n",
    "                else:\n",
    "                    _subsetsWithDup(nums[i+1:], res, temp)\n",
    "        \n",
    "        res = [[]];\n",
    "        temp = [];\n",
    "        _subsetsWithDup(nums, res, []);\n",
    "        return res;"
   ]
  },
  {
   "cell_type": "code",
   "execution_count": 88,
   "metadata": {
    "scrolled": true
   },
   "outputs": [
    {
     "data": {
      "text/plain": [
       "48"
      ]
     },
     "execution_count": 88,
     "metadata": {},
     "output_type": "execute_result"
    }
   ],
   "source": [
    "s = Solution();\n",
    "len(s.subsetsWithDup([1,1,2,3,4,5]))"
   ]
  }
 ],
 "metadata": {
  "kernelspec": {
   "display_name": "Python37",
   "language": "python",
   "name": "python37"
  },
  "language_info": {
   "codemirror_mode": {
    "name": "ipython",
    "version": 3
   },
   "file_extension": ".py",
   "mimetype": "text/x-python",
   "name": "python",
   "nbconvert_exporter": "python",
   "pygments_lexer": "ipython3",
   "version": "3.7.4"
  }
 },
 "nbformat": 4,
 "nbformat_minor": 2
}
