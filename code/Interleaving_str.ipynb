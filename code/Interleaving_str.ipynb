{
 "cells": [
  {
   "cell_type": "markdown",
   "metadata": {},
   "source": [
    "# Interleaving String\n",
    "----"
   ]
  },
  {
   "cell_type": "markdown",
   "metadata": {},
   "source": [
    "Given three strings: s1, s2, s3, determine whether s3 is formed by the interleaving of s1 and s2."
   ]
  },
  {
   "cell_type": "markdown",
   "metadata": {},
   "source": [
    "## DP Solution "
   ]
  },
  {
   "cell_type": "markdown",
   "metadata": {},
   "source": [
    "dp[j][i] = si s3[:i+j] is formed by interleaving of s1[:i] and s2[:j]\n",
    "\n",
    "In the same time"
   ]
  },
  {
   "cell_type": "code",
   "execution_count": 15,
   "metadata": {},
   "outputs": [],
   "source": [
    "class Solution:\n",
    "    \"\"\"\n",
    "    @param s1: A string\n",
    "    @param s2: A string\n",
    "    @param s3: A string\n",
    "    @return: Determine whether s3 is formed by interleaving of s1 and s2\n",
    "    \"\"\"\n",
    "    def isInterleave(self, s1, s2, s3):\n",
    "        # write your code here\n",
    "        if len(s3) != len(s1) + len(s2):\n",
    "            return False;\n",
    "        if len(s1) == 0:\n",
    "            return s2 == s3;\n",
    "        if len(s2) == 0:\n",
    "            return s1 == s3;\n",
    "        \n",
    "        m = len(s1)\n",
    "        n = len(s2)\n",
    "        # dp[j][i] = si s3[:i+j] is formed by interleaving of s1[:i] and s2[:j]\n",
    "        dp = [[False for i in range(m+1)] for j in range(n+1)];\n",
    "        for i in range(m):\n",
    "            dp[0][i+1] = (s3[:i+1] == s1[:i+1]);\n",
    "        for j in range(n):\n",
    "            dp[j+1][0] = (s3[:j+1] == s2[:j+1]);\n",
    "        dp[0][0] = True;\n",
    "        for i in range( m):\n",
    "            for j in range( n):\n",
    "                if s3[i+j+1] == s1[i]:\n",
    "                    dp[j+1][i+1] = dp[j+1][i];\n",
    "                if  s3[i+j+1] == s2[j]: \n",
    "                    dp[j+1][i+1] |= dp[j][i+1];\n",
    "        print(dp)\n",
    "        return dp[n][m]"
   ]
  },
  {
   "cell_type": "code",
   "execution_count": 16,
   "metadata": {},
   "outputs": [
    {
     "name": "stdout",
     "output_type": "stream",
     "text": [
      "[[True, True, True, False, False, False], [False, False, True, True, False, False], [False, False, True, True, True, False], [False, False, True, False, True, False], [False, False, True, True, True, False], [False, False, False, False, False, False]]\n"
     ]
    },
    {
     "data": {
      "text/plain": [
       "True"
      ]
     },
     "execution_count": 16,
     "metadata": {},
     "output_type": "execute_result"
    }
   ],
   "source": [
    "s = Solution()\n",
    "s.isInterleave(\"aabcc\",\"dbbca\",\"aadbbcbcac\")"
   ]
  }
 ],
 "metadata": {
  "kernelspec": {
   "display_name": "Python37",
   "language": "python",
   "name": "python37"
  },
  "language_info": {
   "codemirror_mode": {
    "name": "ipython",
    "version": 3
   },
   "file_extension": ".py",
   "mimetype": "text/x-python",
   "name": "python",
   "nbconvert_exporter": "python",
   "pygments_lexer": "ipython3",
   "version": "3.7.4"
  }
 },
 "nbformat": 4,
 "nbformat_minor": 2
}
