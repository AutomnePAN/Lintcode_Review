{
 "cells": [
  {
   "cell_type": "markdown",
   "metadata": {},
   "source": [
    "# Subsets"
   ]
  },
  {
   "cell_type": "markdown",
   "metadata": {},
   "source": [
    "Given a set of distinct integers, return all possible subsets."
   ]
  },
  {
   "cell_type": "markdown",
   "metadata": {},
   "source": [
    "## DP Solution"
   ]
  },
  {
   "cell_type": "markdown",
   "metadata": {},
   "source": [
    "**Time Complexity: $O(n)$ without sort, $O(n\\log(n))$ sort**\n",
    "\n",
    "**Space Complexity: $O(n^2)$**"
   ]
  },
  {
   "cell_type": "code",
   "execution_count": 26,
   "metadata": {},
   "outputs": [],
   "source": [
    "class Solution:\n",
    "    \"\"\"\n",
    "    @param nums: A set of numbers\n",
    "    @return: A list of lists\n",
    "    \"\"\"\n",
    "    def subsets(self, nums):\n",
    "        nums.sort()\n",
    "        if len(nums) == 0:\n",
    "            return [];\n",
    "        dp = [[ [nums[0]], [] ]];\n",
    "        n = len(nums)\n",
    "        for i in range(1,n):\n",
    "            temp = []\n",
    "            for subset in dp[-1]:\n",
    "                temp.append(subset)\n",
    "                temp.append(subset + [nums[i]])\n",
    "            dp.append(temp)\n",
    "        return dp[-1]"
   ]
  },
  {
   "cell_type": "code",
   "execution_count": 27,
   "metadata": {},
   "outputs": [
    {
     "name": "stdout",
     "output_type": "stream",
     "text": [
      "64\n"
     ]
    }
   ],
   "source": [
    "s = Solution();\n",
    "print(len(s.subsets([1,2,3,4,5,6])))"
   ]
  },
  {
   "cell_type": "markdown",
   "metadata": {},
   "source": [
    "## Iterative Solution"
   ]
  },
  {
   "cell_type": "code",
   "execution_count": null,
   "metadata": {},
   "outputs": [],
   "source": []
  }
 ],
 "metadata": {
  "kernelspec": {
   "display_name": "Python (Tensorflow)",
   "language": "python",
   "name": "tensorflow"
  },
  "language_info": {
   "codemirror_mode": {
    "name": "ipython",
    "version": 3
   },
   "file_extension": ".py",
   "mimetype": "text/x-python",
   "name": "python",
   "nbconvert_exporter": "python",
   "pygments_lexer": "ipython3",
   "version": "3.6.8"
  }
 },
 "nbformat": 4,
 "nbformat_minor": 2
}
