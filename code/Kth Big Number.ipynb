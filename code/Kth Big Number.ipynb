{
 "cells": [
  {
   "cell_type": "markdown",
   "metadata": {},
   "source": [
    "## Kth Largest Element"
   ]
  },
  {
   "cell_type": "markdown",
   "metadata": {},
   "source": [
    "Find K-th largest element in an array."
   ]
  },
  {
   "cell_type": "markdown",
   "metadata": {},
   "source": [
    "### Trivial Method"
   ]
  },
  {
   "cell_type": "code",
   "execution_count": 11,
   "metadata": {},
   "outputs": [],
   "source": [
    "class Solution_1:\n",
    "    \"\"\"\n",
    "    @param n: An integer\n",
    "    @param nums: An array\n",
    "    @return: the Kth largest element\n",
    "    \"\"\"\n",
    "    def kthLargestElement(self, n, nums):\n",
    "        # write your code here\n",
    "        nums.sort();\n",
    "        nums.reverse();\n",
    "        return nums[n]\n"
   ]
  },
  {
   "cell_type": "markdown",
   "metadata": {},
   "source": [
    "First of all, we sort the list and reverse the result. Then return the $n^{th}$ element of the list"
   ]
  },
  {
   "cell_type": "markdown",
   "metadata": {},
   "source": [
    "**Time Complexity: $O(n \\log n)$**"
   ]
  },
  {
   "cell_type": "code",
   "execution_count": 12,
   "metadata": {},
   "outputs": [
    {
     "data": {
      "text/plain": [
       "4"
      ]
     },
     "execution_count": 12,
     "metadata": {},
     "output_type": "execute_result"
    }
   ],
   "source": [
    "s1 = Solution_1();\n",
    "s1.kthLargestElement(3,[2,3,4,5,2,1,32,5])"
   ]
  },
  {
   "cell_type": "markdown",
   "metadata": {},
   "source": [
    "### Partition Solution"
   ]
  },
  {
   "cell_type": "code",
   "execution_count": 70,
   "metadata": {},
   "outputs": [],
   "source": [
    "class Solution_2:\n",
    "    \"\"\"\n",
    "    @param n: An integer\n",
    "    @param nums: An array\n",
    "    @return: the Kth largest element\n",
    "    \"\"\"\n",
    "    def Partition(self, nums, l, r):\n",
    "        if not nums:\n",
    "            return;\n",
    "        if l == r:\n",
    "            return l;\n",
    "        pivot = nums[r];\n",
    "        i = l-1;\n",
    "        for j in range(l,r):\n",
    "            if nums[j] > pivot:\n",
    "                nums[i+1], nums[j] = nums[j], nums[i+1];\n",
    "                i += 1;\n",
    "        nums[i+1], nums[r] = nums[r], nums[i+1]\n",
    "        return i+1;\n",
    "    \n",
    "    def subkthLE(self, n, nums, l, r):\n",
    "        print(nums)\n",
    "        if l >= r:\n",
    "            return nums[l]\n",
    "        q = self.Partition(nums, l, r);\n",
    "        print(q)\n",
    "        p = q - l + 1;\n",
    "        if p == n:\n",
    "            return nums[q];\n",
    "        if p < n:\n",
    "            return self.subkthLE(n-p, nums, q+1, r)\n",
    "        else:\n",
    "            return self.subkthLE(n, nums, l, q-1)\n",
    "    \n",
    "    def kthLargestElement(self, n, nums):\n",
    "        # write your code here\n",
    "        return self.subkthLE(n, nums, 0, len(nums) - 1)\n",
    "        "
   ]
  },
  {
   "cell_type": "code",
   "execution_count": 71,
   "metadata": {
    "scrolled": true
   },
   "outputs": [
    {
     "name": "stdout",
     "output_type": "stream",
     "text": [
      "3\n",
      "[99, 45, 1000, 12, 2, 1, 5, 3, 6]\n",
      "[99, 45, 1000, 12, 2, 1, 5, 3, 6]\n",
      "4\n",
      "[99, 45, 1000, 12, 6, 1, 5, 3, 2]\n",
      "3\n"
     ]
    },
    {
     "data": {
      "text/plain": [
       "12"
      ]
     },
     "execution_count": 71,
     "metadata": {},
     "output_type": "execute_result"
    }
   ],
   "source": [
    "s2 = Solution_2();\n",
    "l = [1,99,45,6,2,1000,5,3,12];\n",
    "print(s2.Partition(l, 0, len(l) - 1));\n",
    "print(l)\n",
    "s2.subkthLE(4, l, 0, len(l) - 1)"
   ]
  },
  {
   "cell_type": "markdown",
   "metadata": {},
   "source": [
    "Using the **Partition** methods "
   ]
  },
  {
   "cell_type": "markdown",
   "metadata": {},
   "source": [
    "**Time Complexity: Average $O(n)$**"
   ]
  }
 ],
 "metadata": {
  "kernelspec": {
   "display_name": "Python 3",
   "language": "python",
   "name": "python3"
  },
  "language_info": {
   "codemirror_mode": {
    "name": "ipython",
    "version": 3
   },
   "file_extension": ".py",
   "mimetype": "text/x-python",
   "name": "python",
   "nbconvert_exporter": "python",
   "pygments_lexer": "ipython3",
   "version": "3.7.1"
  }
 },
 "nbformat": 4,
 "nbformat_minor": 2
}
