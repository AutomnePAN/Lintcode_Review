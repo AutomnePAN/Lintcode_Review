{
 "cells": [
  {
   "cell_type": "markdown",
   "metadata": {},
   "source": [
    "# Search a Matrix\n",
    "-------------------"
   ]
  },
  {
   "cell_type": "markdown",
   "metadata": {},
   "source": [
    "Write an efficient algorithm that searches for a value in an m x n matrix.\n",
    "\n",
    "This matrix has the following properties:\n",
    "\n",
    "Integers in each row are sorted from left to right.\n",
    "The first integer of each row is greater than the last integer of the previous row."
   ]
  },
  {
   "cell_type": "markdown",
   "metadata": {},
   "source": [
    "## Trivial Solution"
   ]
  },
  {
   "cell_type": "markdown",
   "metadata": {},
   "source": [
    "**Time Complexity: $O(n*m)$**"
   ]
  },
  {
   "cell_type": "code",
   "execution_count": 2,
   "metadata": {},
   "outputs": [],
   "source": [
    "class Solution:\n",
    "    \"\"\"\n",
    "    @param matrix: matrix, a list of lists of integers\n",
    "    @param target: An integer\n",
    "    @return: a boolean, indicate whether matrix contains target\n",
    "    \"\"\"\n",
    "    \n",
    "    def searchMatrix(self, matrix, target):\n",
    "        # write your code here\n",
    "        for i in range(len(matrix)):\n",
    "            if target in matrix[i]:\n",
    "                return True\n",
    "        return False;"
   ]
  },
  {
   "cell_type": "markdown",
   "metadata": {},
   "source": [
    "## Binary Solution"
   ]
  },
  {
   "cell_type": "markdown",
   "metadata": {},
   "source": [
    "**Time Complexity: $O(n + \\log(n m))$**"
   ]
  },
  {
   "cell_type": "code",
   "execution_count": 13,
   "metadata": {},
   "outputs": [],
   "source": [
    "class Solution:\n",
    "    \"\"\"\n",
    "    @param matrix: matrix, a list of lists of integers\n",
    "    @param target: An integer\n",
    "    @return: a boolean, indicate whether matrix contains target\n",
    "    \"\"\"\n",
    "    def BinarySearch(self, A, target):\n",
    "        n = len(A);\n",
    "        if n == 1:\n",
    "            return A[0] == target;\n",
    "        left = 0;\n",
    "        right = n - 1;\n",
    "        while (left < right):\n",
    "            mid = (left + right)//2\n",
    "            if A[mid] == target:\n",
    "                return True;\n",
    "            if A[mid] < target:\n",
    "                left = mid + 1;\n",
    "            else:\n",
    "                right = mid - 1;\n",
    "        return A[left] == target\n",
    "    \n",
    "    def searchMatrix(self, matrix, target):\n",
    "        list_conca = [];\n",
    "        for i in range(len(matrix)):\n",
    "            list_conca += matrix[i]\n",
    "        return self.BinarySearch(list_conca, target)"
   ]
  },
  {
   "cell_type": "code",
   "execution_count": 14,
   "metadata": {},
   "outputs": [
    {
     "data": {
      "text/plain": [
       "True"
      ]
     },
     "execution_count": 14,
     "metadata": {},
     "output_type": "execute_result"
    }
   ],
   "source": [
    "s  = Solution()\n",
    "test_M = [[1,2,3,4], [5,6,7,8], [9,10,11,13], [16,17,18,19]]\n",
    "s.searchMatrix(test_M, 11)"
   ]
  }
 ],
 "metadata": {
  "kernelspec": {
   "display_name": "Python37",
   "language": "python",
   "name": "python37"
  },
  "language_info": {
   "codemirror_mode": {
    "name": "ipython",
    "version": 3
   },
   "file_extension": ".py",
   "mimetype": "text/x-python",
   "name": "python",
   "nbconvert_exporter": "python",
   "pygments_lexer": "ipython3",
   "version": "3.7.4"
  }
 },
 "nbformat": 4,
 "nbformat_minor": 2
}
