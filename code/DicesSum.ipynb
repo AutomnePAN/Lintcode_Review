{
 "cells": [
  {
   "cell_type": "markdown",
   "metadata": {},
   "source": [
    "# Dice Sum\n",
    "-----------------------------------"
   ]
  },
  {
   "cell_type": "markdown",
   "metadata": {},
   "source": [
    "Throw n dices, the sum of the dices' faces is S. Given n, find the all possible value of S along with its probability."
   ]
  },
  {
   "cell_type": "markdown",
   "metadata": {},
   "source": [
    "## DP Solution"
   ]
  },
  {
   "cell_type": "code",
   "execution_count": 8,
   "metadata": {},
   "outputs": [],
   "source": [
    "class Solution:\n",
    "    # @param {int} n an integer\n",
    "    # @return {tuple[]} a list of tuple(sum, probability)\n",
    "    def dicesSum(self, n):\n",
    "        # Write your code here\n",
    "        if n == 0:\n",
    "            return;\n",
    "        dp = [[0 for _ in range(6 * n + 1)] for _ in range(n+1)];\n",
    "        for i in range(7):\n",
    "            dp[1][i] = 1/6;\n",
    "        \n",
    "        for i in range(2,n+1):\n",
    "            for j in range(i, 6*n+1):\n",
    "                for k in range(1,7):\n",
    "                    if j > k:\n",
    "                        dp[i][j] +=  1/6 *dp[i-1][j-k]\n",
    "        res = []\n",
    "        for i in range(n, 6*n + 1):\n",
    "            res.append([i, dp[n][i]]);\n",
    "        return res;\n",
    "        \n",
    "        "
   ]
  },
  {
   "cell_type": "code",
   "execution_count": 9,
   "metadata": {},
   "outputs": [
    {
     "data": {
      "text/plain": [
       "[[2, 0.027777777777777776],\n",
       " [3, 0.05555555555555555],\n",
       " [4, 0.08333333333333333],\n",
       " [5, 0.1111111111111111],\n",
       " [6, 0.1388888888888889],\n",
       " [7, 0.16666666666666669],\n",
       " [8, 0.1388888888888889],\n",
       " [9, 0.1111111111111111],\n",
       " [10, 0.08333333333333333],\n",
       " [11, 0.05555555555555555],\n",
       " [12, 0.027777777777777776]]"
      ]
     },
     "execution_count": 9,
     "metadata": {},
     "output_type": "execute_result"
    }
   ],
   "source": [
    "s = Solution();\n",
    "s.dicesSum(2)"
   ]
  }
 ],
 "metadata": {
  "kernelspec": {
   "display_name": "Python37",
   "language": "python",
   "name": "python37"
  },
  "language_info": {
   "codemirror_mode": {
    "name": "ipython",
    "version": 3
   },
   "file_extension": ".py",
   "mimetype": "text/x-python",
   "name": "python",
   "nbconvert_exporter": "python",
   "pygments_lexer": "ipython3",
   "version": "3.7.4"
  }
 },
 "nbformat": 4,
 "nbformat_minor": 2
}
