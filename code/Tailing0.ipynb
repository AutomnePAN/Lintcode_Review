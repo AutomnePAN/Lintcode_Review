{
 "cells": [
  {
   "cell_type": "markdown",
   "metadata": {},
   "source": [
    "## 002. Trailing 0"
   ]
  },
  {
   "cell_type": "markdown",
   "metadata": {},
   "source": [
    "Write an algorithm which computes the number of trailing zeros in n factorial."
   ]
  },
  {
   "cell_type": "markdown",
   "metadata": {},
   "source": [
    "当遇到5的倍数时，就可以最终结果加一，然后如果该数除以5之后还能整除5,那么可以再加1；\n",
    "相当于是找 1 到 n 相乘之中有多少的5"
   ]
  },
  {
   "cell_type": "code",
   "execution_count": 11,
   "metadata": {},
   "outputs": [],
   "source": [
    "def trailingZeros(n):\n",
    "    # write your code here, try to do it without arithmetic operators.\n",
    "    res = 0;\n",
    "#   注意这里一直要乘到n， 所以for循环的上界是n+1；\n",
    "    for i in range(n+1):\n",
    "        while ( i > 0  and i % 5 == 0):\n",
    "            i = i / 5;\n",
    "            res += 1;\n",
    "    return res;"
   ]
  },
  {
   "cell_type": "code",
   "execution_count": 14,
   "metadata": {},
   "outputs": [
    {
     "data": {
      "text/plain": [
       "249999"
      ]
     },
     "execution_count": 14,
     "metadata": {},
     "output_type": "execute_result"
    }
   ],
   "source": [
    "trailingZeros(1000005)"
   ]
  },
  {
   "cell_type": "markdown",
   "metadata": {},
   "source": [
    "**该方法的时间复杂度还是$O(n^2)$**"
   ]
  },
  {
   "cell_type": "markdown",
   "metadata": {},
   "source": [
    "所以需要更近一步的优化"
   ]
  },
  {
   "cell_type": "markdown",
   "metadata": {},
   "source": [
    "我们考虑到，当n除以5之后得到的是比n小的能除的尽5的数字的个数，在这些数字之中，每隔5个又会出现一个除的尽25的数字，所以我们需要加上这个结果再除以5，以此类推，直到归零"
   ]
  },
  {
   "cell_type": "code",
   "execution_count": 15,
   "metadata": {},
   "outputs": [],
   "source": [
    "def trailingZeros(n):\n",
    "    res = 0;\n",
    "    while(n > 0):\n",
    "        res += (n // 5);\n",
    "        n = n //5;\n",
    "    return res;"
   ]
  },
  {
   "cell_type": "code",
   "execution_count": 18,
   "metadata": {},
   "outputs": [
    {
     "data": {
      "text/plain": [
       "249999"
      ]
     },
     "execution_count": 18,
     "metadata": {},
     "output_type": "execute_result"
    }
   ],
   "source": [
    "trailingZeros(1000005)"
   ]
  },
  {
   "cell_type": "markdown",
   "metadata": {},
   "source": [
    "**这个方法的时间复杂度是$O(\\log_5(n))$**"
   ]
  }
 ],
 "metadata": {
  "kernelspec": {
   "display_name": "Python 3",
   "language": "python",
   "name": "python3"
  },
  "language_info": {
   "codemirror_mode": {
    "name": "ipython",
    "version": 3
   },
   "file_extension": ".py",
   "mimetype": "text/x-python",
   "name": "python",
   "nbconvert_exporter": "python",
   "pygments_lexer": "ipython3",
   "version": "3.7.1"
  }
 },
 "nbformat": 4,
 "nbformat_minor": 2
}
