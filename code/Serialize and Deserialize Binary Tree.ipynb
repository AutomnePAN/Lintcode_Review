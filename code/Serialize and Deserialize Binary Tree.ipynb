{
 "cells": [
  {
   "cell_type": "markdown",
   "metadata": {},
   "source": [
    "# Serialize and Deserialize Binary Trees"
   ]
  },
  {
   "cell_type": "markdown",
   "metadata": {},
   "source": [
    "Design an algorithm and write code to serialize and deserialize a binary tree. Writing the tree to a file is called 'serialization' and reading back from the file to reconstruct the exact same binary tree is 'deserialization'."
   ]
  },
  {
   "cell_type": "markdown",
   "metadata": {},
   "source": [
    "Input：{3,9,20,#,#,15,7}\n",
    "Output：{3,9,20,#,#,15,7}\n",
    "Explanation：\n",
    "Binary tree {3,9,20,#,#,15,7},  denote the following structure:\n",
    "\n",
    "\t   3\n",
    "      \n",
    "\t /  \\\n",
    "     \n",
    "\t9   20\n",
    "    \n",
    "\t   /   \\\n",
    "      \n",
    "\t 15     7\n",
    "     \n",
    "it will be serialized {3,9,20,#,#,15,7}"
   ]
  },
  {
   "cell_type": "code",
   "execution_count": 1,
   "metadata": {},
   "outputs": [],
   "source": [
    "class TreeNode:\n",
    "    def __init__(self, val):\n",
    "        self.val = val;\n",
    "        self.left = None;\n",
    "        self.right = None;"
   ]
  },
  {
   "cell_type": "markdown",
   "metadata": {},
   "source": [
    "## DFS Solution"
   ]
  },
  {
   "cell_type": "code",
   "execution_count": 41,
   "metadata": {},
   "outputs": [],
   "source": [
    "\n",
    "class Solution:\n",
    "    \"\"\"\n",
    "    @param root: An object of TreeNode, denote the root of the binary tree.\n",
    "    This method will be invoked first, you should design your own algorithm \n",
    "    to serialize a binary tree which denote by a root node to a string which\n",
    "    can be easily deserialized by your own \"deserialize\" method later.\n",
    "    \"\"\"\n",
    "    def serialize(self, root):\n",
    "        # write your code here\n",
    "        if root == None:\n",
    "            return [\"#\"];\n",
    "        left_serie = self.serialize(root.left)\n",
    "        right_serie = self.serialize(root.right)\n",
    "        return [root.val] + left_serie + right_serie;\n",
    "\n",
    "    \"\"\"\n",
    "    @param data: A string serialized by your serialize method.\n",
    "    This method will be invoked second, the argument data is what exactly\n",
    "    you serialized at method \"serialize\", that means the data is not given by\n",
    "    system, it's given by your own serialize method. So the format of data is\n",
    "    designed by yourself, and deserialize it here as you serialize it in \n",
    "    \"serialize\" method.\n",
    "    \"\"\"\n",
    "    def deserialize(self, data):\n",
    "        # write your code here\n",
    "        if len(data) == 0:\n",
    "            return None;\n",
    "        ch = data.pop(0)\n",
    "        if ch == '#':\n",
    "            return None;\n",
    "        else:\n",
    "            root = TreeNode(int(ch))\n",
    "            root.left = self.deserialize(data)\n",
    "            root.right = self.deserialize( data)\n",
    "            return root"
   ]
  },
  {
   "cell_type": "code",
   "execution_count": 46,
   "metadata": {},
   "outputs": [],
   "source": [
    "data = [1,22,23,34,15,16,27]\n",
    "s = Solution()"
   ]
  },
  {
   "cell_type": "code",
   "execution_count": 47,
   "metadata": {},
   "outputs": [],
   "source": [
    "root = TreeNode(1)\n",
    "root.left = TreeNode(2)\n",
    "root.right = TreeNode(3)"
   ]
  },
  {
   "cell_type": "code",
   "execution_count": 48,
   "metadata": {},
   "outputs": [
    {
     "data": {
      "text/plain": [
       "[1, 2, '#', '#', 3, '#', '#']"
      ]
     },
     "execution_count": 48,
     "metadata": {},
     "output_type": "execute_result"
    }
   ],
   "source": [
    "s.serialize(root)"
   ]
  },
  {
   "cell_type": "code",
   "execution_count": 49,
   "metadata": {
    "scrolled": true
   },
   "outputs": [
    {
     "name": "stdout",
     "output_type": "stream",
     "text": [
      "[1, 22, 23, 34, 15, 16, 27, '#', '#', '#', '#', '#', '#', '#', '#']\n"
     ]
    }
   ],
   "source": [
    "print(s.serialize(s.deserialize(data)))"
   ]
  },
  {
   "cell_type": "markdown",
   "metadata": {},
   "source": [
    "## BFS Solution"
   ]
  },
  {
   "cell_type": "code",
   "execution_count": null,
   "metadata": {},
   "outputs": [],
   "source": []
  }
 ],
 "metadata": {
  "kernelspec": {
   "display_name": "Python 3",
   "language": "python",
   "name": "python3"
  },
  "language_info": {
   "codemirror_mode": {
    "name": "ipython",
    "version": 3
   },
   "file_extension": ".py",
   "mimetype": "text/x-python",
   "name": "python",
   "nbconvert_exporter": "python",
   "pygments_lexer": "ipython3",
   "version": "3.7.1"
  }
 },
 "nbformat": 4,
 "nbformat_minor": 2
}
