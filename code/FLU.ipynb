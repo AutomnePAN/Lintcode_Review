{
 "cells": [
  {
   "cell_type": "markdown",
   "metadata": {},
   "source": [
    "# LFU\n",
    "----------------------------"
   ]
  },
  {
   "cell_type": "markdown",
   "metadata": {},
   "source": [
    "LFU (Least Frequently Used) is a famous cache eviction algorithm.\n",
    "\n",
    "For a cache with capacity k, if the cache is full and need to evict a key in it, the key with the lease frequently used will be kicked out.\n",
    "\n",
    "Implement set and get method for LFU cache."
   ]
  },
  {
   "cell_type": "markdown",
   "metadata": {},
   "source": [
    "## Solution Failed for Unknown Reason "
   ]
  },
  {
   "cell_type": "code",
   "execution_count": 1,
   "metadata": {},
   "outputs": [],
   "source": [
    "class LFUCache:\n",
    "    \"\"\"\n",
    "    @param: capacity: An integer\n",
    "    \"\"\"\n",
    "    def __init__(self, capacity):\n",
    "        # do intialization if necessary\n",
    "        self.fre = {}\n",
    "        self.dict = {}\n",
    "        self.min_key = None;\n",
    "        self.cap = capacity - 1\n",
    "\n",
    "    \"\"\"\n",
    "    @param: key: An integer\n",
    "    @param: value: An integer\n",
    "    @return: nothing\n",
    "    \"\"\"\n",
    "    def set(self, key, value):\n",
    "        # write your code here\n",
    "        if key in self.dict.keys():\n",
    "            self.dict[key] = value\n",
    "            self.fre[key] = 0\n",
    "            for k in self.fre.keys():\n",
    "                if k != key:\n",
    "                    self.fre[k] += 1;\n",
    "            self.min_key = key;\n",
    "            \n",
    "        else:\n",
    "            print(self.cap)\n",
    "            if len(self.dict.keys()) < self.cap:\n",
    "                self.dict[key] = value\n",
    "                self.fre[key] = 0\n",
    "                for k in self.fre.keys():\n",
    "                    if k != key:\n",
    "                        self.fre[k] += 1;\n",
    "                self.min_key = key;\n",
    "            else:\n",
    "                max_fre = self.fre[self.min_key]\n",
    "                max_key = self.min_key;\n",
    "                for k in self.dict.keys():\n",
    "                    if self.fre[k] > max_fre:\n",
    "                        max_fre = self.fre[k];\n",
    "                        max_key = k;\n",
    "                del self.dict[max_key]\n",
    "                \n",
    "                self.dict[key] = value\n",
    "                self.fre[key] = 0\n",
    "                for k in self.fre.keys():\n",
    "                    if k != key:\n",
    "                        self.fre[k] += 1;\n",
    "                self.min_key = key;\n",
    "\n",
    "    \"\"\"\n",
    "    @param: key: An integer\n",
    "    @return: An integer\n",
    "    \"\"\"\n",
    "    def get(self, key):\n",
    "        # write your code here\n",
    "        if key in self.dict.keys():\n",
    "            self.fre[key] = 0\n",
    "            for k in self.fre.keys():\n",
    "                if k != key:\n",
    "                    self.fre[k] += 1;\n",
    "            self.min_key = key;\n",
    "            return self.dict[key];\n",
    "        else:\n",
    "            return -1;"
   ]
  }
 ],
 "metadata": {
  "kernelspec": {
   "display_name": "Python37",
   "language": "python",
   "name": "python37"
  },
  "language_info": {
   "codemirror_mode": {
    "name": "ipython",
    "version": 3
   },
   "file_extension": ".py",
   "mimetype": "text/x-python",
   "name": "python",
   "nbconvert_exporter": "python",
   "pygments_lexer": "ipython3",
   "version": "3.7.4"
  }
 },
 "nbformat": 4,
 "nbformat_minor": 2
}
