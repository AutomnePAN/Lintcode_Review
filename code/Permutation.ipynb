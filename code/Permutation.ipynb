{
 "cells": [
  {
   "cell_type": "markdown",
   "metadata": {},
   "source": [
    " # Permutation with duplicate elements\n",
    " --------------------------------------------------------------"
   ]
  },
  {
   "cell_type": "markdown",
   "metadata": {},
   "source": [
    "Given a list of numbers with duplicate number in it. Find all unique permutations."
   ]
  },
  {
   "cell_type": "markdown",
   "metadata": {},
   "source": [
    "##  Recursion Trivial Solution  "
   ]
  },
  {
   "cell_type": "markdown",
   "metadata": {},
   "source": [
    "**Time Complexity: $O(n!)$**"
   ]
  },
  {
   "cell_type": "code",
   "execution_count": 2,
   "metadata": {},
   "outputs": [],
   "source": [
    "class Solution:\n",
    "    \"\"\"\n",
    "    @param: :  A list of integers\n",
    "    @return: A list of unique permutations\n",
    "    \"\"\"\n",
    "\n",
    "    def permuteUnique(self, nums):\n",
    "        # write your code here\n",
    "        if len(nums) <= 1:\n",
    "            return [nums]\n",
    "        Res = []     \n",
    "        heads = []\n",
    "        for i in range(len(nums)):\n",
    "            in_s = False\n",
    "            for j in range(len(heads)):\n",
    "                if nums[heads[j]] == nums[i]:\n",
    "                    in_s = True\n",
    "            if not in_s:\n",
    "                heads.append(i)\n",
    "        \n",
    "        for head in heads:\n",
    "            sub_nums = []\n",
    "            for j in range(len(nums)):\n",
    "                if j != head:\n",
    "                    sub_nums.append(nums[j])\n",
    "            for res in self.permuteUnique(sub_nums):\n",
    "                Res.append([nums[head]]+res)\n",
    "        return Res;"
   ]
  },
  {
   "cell_type": "code",
   "execution_count": 15,
   "metadata": {},
   "outputs": [
    {
     "data": {
      "text/plain": [
       "2520"
      ]
     },
     "execution_count": 15,
     "metadata": {},
     "output_type": "execute_result"
    }
   ],
   "source": [
    "s = Solution()\n",
    "len(s.permuteUnique([1,1,2,3,4,6,7]))"
   ]
  },
  {
   "cell_type": "markdown",
   "metadata": {},
   "source": [
    "## DPS Solution"
   ]
  },
  {
   "cell_type": "code",
   "execution_count": 13,
   "metadata": {},
   "outputs": [],
   "source": [
    "class Solution:\n",
    "    \"\"\"\n",
    "    @param: :  A list of integers\n",
    "    @return: A list of unique permutations\n",
    "    \"\"\"\n",
    "\n",
    "    def permuteUnique(self, nums):\n",
    "        # write your code here\n",
    "        def _permute(result, temp, nums):\n",
    "            n = len(nums);\n",
    "            if len(nums) == 0:\n",
    "                res.append(temp);\n",
    "                \n",
    "            nums_visited = []\n",
    "            for i in range(n):\n",
    "                if nums[i] not in nums_visited:\n",
    "                    nums_visited.append(nums[i]);\n",
    "#                     print(nums[i])\n",
    "                    _permute(result, temp + [nums[i]], nums[:i] + nums[i+1:])\n",
    "        \n",
    "        if len(nums) <= 1:\n",
    "            return [nums];\n",
    "        \n",
    "        res = [];\n",
    "        _permute(res, [], sorted(nums));\n",
    "        return res;"
   ]
  },
  {
   "cell_type": "code",
   "execution_count": 14,
   "metadata": {
    "scrolled": true
   },
   "outputs": [
    {
     "data": {
      "text/plain": [
       "2520"
      ]
     },
     "execution_count": 14,
     "metadata": {},
     "output_type": "execute_result"
    }
   ],
   "source": [
    "s = Solution()\n",
    "len(s.permuteUnique([1,1,2,3,4,6,7]))"
   ]
  }
 ],
 "metadata": {
  "kernelspec": {
   "display_name": "Python (Tensorflow)",
   "language": "python",
   "name": "tensorflow"
  },
  "language_info": {
   "codemirror_mode": {
    "name": "ipython",
    "version": 3
   },
   "file_extension": ".py",
   "mimetype": "text/x-python",
   "name": "python",
   "nbconvert_exporter": "python",
   "pygments_lexer": "ipython3",
   "version": "3.6.8"
  }
 },
 "nbformat": 4,
 "nbformat_minor": 2
}
