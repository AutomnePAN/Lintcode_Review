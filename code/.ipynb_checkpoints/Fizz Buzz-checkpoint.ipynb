{
 "cells": [
  {
   "cell_type": "markdown",
   "metadata": {},
   "source": [
    "# Fizz Buzz"
   ]
  },
  {
   "cell_type": "markdown",
   "metadata": {},
   "source": [
    "Given number n. Print number from 1 to n. But:\n",
    "\n",
    "when number is divided by 3, print \"fizz\".\n",
    "when number is divided by 5, print \"buzz\".\n",
    "when number is divided by both 3 and 5, print \"fizz buzz\".\n",
    "when number can't be divided by either 3 or 5, print the number itself."
   ]
  },
  {
   "cell_type": "markdown",
   "metadata": {},
   "source": [
    "### Trivial Solution"
   ]
  },
  {
   "cell_type": "code",
   "execution_count": 1,
   "metadata": {},
   "outputs": [],
   "source": [
    "class Solution:\n",
    "    \"\"\"\n",
    "    @param n: An integer\n",
    "    @return: A list of strings.\n",
    "    \"\"\"\n",
    "    def fizzBuzz(self, n):\n",
    "        # write your code here\n",
    "        res = [];\n",
    "        for i in range(1, n+1):\n",
    "            if i % 3 == 0  and i % 5 == 0:\n",
    "                res.append(\"fizz buzz\");\n",
    "            elif i % 3 == 0:\n",
    "                res.append(\"fizz\");\n",
    "            elif i % 5 == 0:\n",
    "                res.append(\"buzz\");\n",
    "            else:\n",
    "                res.append(str(i));\n",
    "        return res;\n"
   ]
  }
 ],
 "metadata": {
  "kernelspec": {
   "display_name": "Python 3",
   "language": "python",
   "name": "python3"
  },
  "language_info": {
   "codemirror_mode": {
    "name": "ipython",
    "version": 3
   },
   "file_extension": ".py",
   "mimetype": "text/x-python",
   "name": "python",
   "nbconvert_exporter": "python",
   "pygments_lexer": "ipython3",
   "version": "3.7.1"
  }
 },
 "nbformat": 4,
 "nbformat_minor": 2
}
