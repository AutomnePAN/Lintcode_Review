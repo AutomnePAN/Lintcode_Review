{
 "cells": [
  {
   "cell_type": "markdown",
   "metadata": {},
   "source": [
    "# Min Stack"
   ]
  },
  {
   "cell_type": "markdown",
   "metadata": {},
   "source": [
    "Implement a stack with following functions:\n",
    "\n",
    "-push(val) push val into the stack\n",
    "\n",
    "-pop() pop the top element and return it\n",
    "\n",
    "-min() return the smallest number in the stack\n",
    "\n",
    "All above should be in O(1) cost."
   ]
  },
  {
   "cell_type": "code",
   "execution_count": 7,
   "metadata": {},
   "outputs": [],
   "source": [
    "class Min_Stack:\n",
    "    def __init__(self):\n",
    "        self.stack = []\n",
    "        self.min_dict = {};\n",
    "    \n",
    "    def push(self, val):\n",
    "        if len(self.stack) == 0:\n",
    "            self.stack.append(val);\n",
    "            self.min_dict[0] = val;\n",
    "            return;\n",
    "        self.stack.append(val)\n",
    "        self.min_dict[len(self.stack) - 1] = min ( self.min_dict[len(self.stack) - 2], val)\n",
    "        return\n",
    "    \n",
    "    def pop(self):\n",
    "        if len(self.stack) == 0:\n",
    "            print(\"Empty stack pop! \")\n",
    "            return \n",
    "        temp = self.stack.pop();\n",
    "        return;\n",
    "    \n",
    "    def min(self):\n",
    "        return self.min_dict[len(self.stack ) - 1];\n",
    "    "
   ]
  },
  {
   "cell_type": "code",
   "execution_count": 8,
   "metadata": {},
   "outputs": [],
   "source": [
    "ms = Min_Stack()"
   ]
  },
  {
   "cell_type": "code",
   "execution_count": 11,
   "metadata": {},
   "outputs": [],
   "source": [
    "for i in range(0, 10, 1):\n",
    "    ms.push(i)"
   ]
  },
  {
   "cell_type": "code",
   "execution_count": 12,
   "metadata": {},
   "outputs": [
    {
     "data": {
      "text/plain": [
       "{0: 10,\n",
       " 1: 9,\n",
       " 2: 8,\n",
       " 3: 7,\n",
       " 4: 6,\n",
       " 5: 5,\n",
       " 6: 4,\n",
       " 7: 3,\n",
       " 8: 2,\n",
       " 9: 1,\n",
       " 10: 0,\n",
       " 11: 0,\n",
       " 12: 0,\n",
       " 13: 0,\n",
       " 14: 0,\n",
       " 15: 0,\n",
       " 16: 0,\n",
       " 17: 0,\n",
       " 18: 0,\n",
       " 19: 0,\n",
       " 20: 0}"
      ]
     },
     "execution_count": 12,
     "metadata": {},
     "output_type": "execute_result"
    }
   ],
   "source": [
    "ms.min_dict"
   ]
  }
 ],
 "metadata": {
  "kernelspec": {
   "display_name": "Python 3",
   "language": "python",
   "name": "python3"
  },
  "language_info": {
   "codemirror_mode": {
    "name": "ipython",
    "version": 3
   },
   "file_extension": ".py",
   "mimetype": "text/x-python",
   "name": "python",
   "nbconvert_exporter": "python",
   "pygments_lexer": "ipython3",
   "version": "3.7.1"
  }
 },
 "nbformat": 4,
 "nbformat_minor": 2
}
