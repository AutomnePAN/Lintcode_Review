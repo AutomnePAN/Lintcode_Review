{
 "cells": [
  {
   "cell_type": "markdown",
   "metadata": {},
   "source": [
    "# Search In Search Tree"
   ]
  },
  {
   "cell_type": "markdown",
   "metadata": {},
   "source": [
    "Given a binary search tree and a range [k1, k2], return node values within a given range in ascending order"
   ]
  },
  {
   "cell_type": "markdown",
   "metadata": {},
   "source": [
    "## Trivial Solution"
   ]
  },
  {
   "cell_type": "markdown",
   "metadata": {},
   "source": [
    "Use the inorder traversal"
   ]
  },
  {
   "cell_type": "markdown",
   "metadata": {},
   "source": [
    "**Time Complexity: $O(n)$**"
   ]
  },
  {
   "cell_type": "code",
   "execution_count": 1,
   "metadata": {},
   "outputs": [],
   "source": [
    "\"\"\"\n",
    "Definition of TreeNode:\n",
    "class TreeNode:\n",
    "    def __init__(self, val):\n",
    "        self.val = val\n",
    "        self.left, self.right = None, None\n",
    "\"\"\"\n",
    "\n",
    "class Solution:\n",
    "    \"\"\"\n",
    "    @param root: param root: The root of the binary search tree\n",
    "    @param k1: An integer\n",
    "    @param k2: An integer\n",
    "    @return: return: Return all keys that k1<=key<=k2 in ascending order\n",
    "    \"\"\"\n",
    "    def searchRange(self, root, k1, k2):\n",
    "        # write your code here\n",
    "        if not root:\n",
    "            return [];\n",
    "        res = []\n",
    "        if k1 <= root.val <= k2:\n",
    "            res.append(root.val);\n",
    "        left = self.searchRange(root.left, k1, k2);\n",
    "        right = self.searchRange(root.right, k1, k2);\n",
    "        return sorted(left + res + right);"
   ]
  }
 ],
 "metadata": {
  "kernelspec": {
   "display_name": "Python 3",
   "language": "python",
   "name": "python3"
  },
  "language_info": {
   "codemirror_mode": {
    "name": "ipython",
    "version": 3
   },
   "file_extension": ".py",
   "mimetype": "text/x-python",
   "name": "python",
   "nbconvert_exporter": "python",
   "pygments_lexer": "ipython3",
   "version": "3.7.1"
  }
 },
 "nbformat": 4,
 "nbformat_minor": 2
}
