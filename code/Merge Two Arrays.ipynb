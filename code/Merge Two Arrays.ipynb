{
 "cells": [
  {
   "cell_type": "markdown",
   "metadata": {},
   "source": [
    "# Merge Two Sort"
   ]
  },
  {
   "cell_type": "markdown",
   "metadata": {},
   "source": [
    "Merge two given sorted ascending integer array A and B into a new sorted integer array."
   ]
  },
  {
   "cell_type": "markdown",
   "metadata": {},
   "source": [
    "## Merge Sort Solution"
   ]
  },
  {
   "cell_type": "markdown",
   "metadata": {},
   "source": [
    "The key point here is to determine the iteration condition Whether another array is used up or my next value is less than the next value of another array\n",
    "\n",
    "\n",
    "**Time Complexity: $O(n)$**"
   ]
  },
  {
   "cell_type": "code",
   "execution_count": 8,
   "metadata": {},
   "outputs": [],
   "source": [
    "class Solution:\n",
    "    \"\"\"\n",
    "    @param A: sorted integer array A\n",
    "    @param B: sorted integer array B\n",
    "    @return: A new sorted integer array\n",
    "    \"\"\"\n",
    "    def mergeSortedArray(self, A, B):\n",
    "        # write your code here\n",
    "        C = [0 for i in range(len(A) + len(B))];\n",
    "        i = 0; \n",
    "        j = 0;\n",
    "        k = 0;\n",
    "        while(k < len(C)):\n",
    "            while(i < len(A) and  (j >= len(B) or A[i] < B[j]) ):\n",
    "                C[k] = A[i]\n",
    "                k+=1;\n",
    "                i+=1;\n",
    "            while(j < len(B) and (i >= len(A) or A[i] >= B[j]) ):\n",
    "                C[k] = B[j];\n",
    "                k+=1;\n",
    "                j+=1;\n",
    "        return C;\n"
   ]
  },
  {
   "cell_type": "code",
   "execution_count": 13,
   "metadata": {},
   "outputs": [],
   "source": [
    "# Test array\n",
    "tA = [1,3];\n",
    "tB = [4,5,9,10,13];"
   ]
  },
  {
   "cell_type": "code",
   "execution_count": 14,
   "metadata": {},
   "outputs": [
    {
     "name": "stdout",
     "output_type": "stream",
     "text": [
      "[1, 3, 4, 5, 9, 10, 13]\n"
     ]
    }
   ],
   "source": [
    "s1 = Solution();\n",
    "print(s1.mergeSortedArray(tA, tB));"
   ]
  },
  {
   "cell_type": "markdown",
   "metadata": {},
   "source": [
    "## Trivial Solution"
   ]
  },
  {
   "cell_type": "markdown",
   "metadata": {},
   "source": [
    "Using Sort"
   ]
  },
  {
   "cell_type": "markdown",
   "metadata": {},
   "source": [
    "**Time Complexity: $O(n \\log n)$**"
   ]
  },
  {
   "cell_type": "code",
   "execution_count": 15,
   "metadata": {},
   "outputs": [],
   "source": [
    "class Solution:\n",
    "    \"\"\"\n",
    "    @param A: sorted integer array A\n",
    "    @param B: sorted integer array B\n",
    "    @return: A new sorted integer array\n",
    "    \"\"\"\n",
    "    def mergeSortedArray(self, A, B):\n",
    "        # write your code here\n",
    "        C = A + B;\n",
    "        C.sort();\n",
    "        return C"
   ]
  }
 ],
 "metadata": {
  "kernelspec": {
   "display_name": "Python (pytorch)",
   "language": "python",
   "name": "pytorch"
  },
  "language_info": {
   "codemirror_mode": {
    "name": "ipython",
    "version": 3
   },
   "file_extension": ".py",
   "mimetype": "text/x-python",
   "name": "python",
   "nbconvert_exporter": "python",
   "pygments_lexer": "ipython3",
   "version": "3.6.9"
  }
 },
 "nbformat": 4,
 "nbformat_minor": 2
}
