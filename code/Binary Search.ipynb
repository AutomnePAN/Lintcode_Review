{
 "cells": [
  {
   "cell_type": "markdown",
   "metadata": {},
   "source": [
    "# First Element Binary Search"
   ]
  },
  {
   "cell_type": "markdown",
   "metadata": {},
   "source": [
    "For a given sorted array (ascending order) and a target number, find the first index of this number in O(log n) time complexity.\n",
    "\n",
    "If the target number does not exist in the array, return -1."
   ]
  },
  {
   "cell_type": "markdown",
   "metadata": {},
   "source": [
    "## Simple Binary Search Solution"
   ]
  },
  {
   "cell_type": "markdown",
   "metadata": {},
   "source": [
    "**Time Complexity: $O(\\log(n))$**"
   ]
  },
  {
   "cell_type": "code",
   "execution_count": 13,
   "metadata": {},
   "outputs": [],
   "source": [
    "class Solution:\n",
    "    \"\"\"\n",
    "    @param nums: The integer array.\n",
    "    @param target: Target to find.\n",
    "    @return: The first position of target. Position starts from 0.\n",
    "    \"\"\"\n",
    "    def binarySearch(self, nums, target):\n",
    "        # write your code here\n",
    "        if len(nums) == 0:\n",
    "            return -1;\n",
    "        if len(nums) == 1:\n",
    "            if nums[0] == target:\n",
    "                return 0;\n",
    "            else:\n",
    "                return -1;\n",
    "        n = len(nums)\n",
    "        left = 0;\n",
    "        right = n - 1;\n",
    "        \n",
    "        while(left < right):\n",
    "            mid = (left + right)//2;\n",
    "            print(mid)\n",
    "            if nums[mid] == target:\n",
    "                while(mid >= 0 and nums[mid] == target):\n",
    "                    mid -= 1;\n",
    "                return mid + 1;\n",
    "            \n",
    "            if nums[mid] < target:\n",
    "                left = mid + 1;\n",
    "            else:\n",
    "                right = mid - 1;\n",
    "        print(left, right, nums[left])\n",
    "        if nums[left] == target:\n",
    "            while(left >= 0 and nums[left] == target):\n",
    "                left -= 1;\n",
    "            return left + 1;\n",
    "        return -1"
   ]
  },
  {
   "cell_type": "code",
   "execution_count": 14,
   "metadata": {},
   "outputs": [
    {
     "name": "stdout",
     "output_type": "stream",
     "text": [
      "3\n",
      "1\n",
      "0 0 1\n"
     ]
    },
    {
     "data": {
      "text/plain": [
       "0"
      ]
     },
     "execution_count": 14,
     "metadata": {},
     "output_type": "execute_result"
    }
   ],
   "source": [
    "bS = Solution()\n",
    "bS.binarySearch([1,4,4,5,6,7,8],1)"
   ]
  }
 ],
 "metadata": {
  "kernelspec": {
   "display_name": "Python (Tensorflow)",
   "language": "python",
   "name": "tensorflow"
  },
  "language_info": {
   "codemirror_mode": {
    "name": "ipython",
    "version": 3
   },
   "file_extension": ".py",
   "mimetype": "text/x-python",
   "name": "python",
   "nbconvert_exporter": "python",
   "pygments_lexer": "ipython3",
   "version": "3.6.8"
  }
 },
 "nbformat": 4,
 "nbformat_minor": 2
}
