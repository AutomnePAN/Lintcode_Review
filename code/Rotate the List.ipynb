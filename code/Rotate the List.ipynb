{
 "cells": [
  {
   "cell_type": "markdown",
   "metadata": {},
   "source": [
    "# Rotate String"
   ]
  },
  {
   "cell_type": "markdown",
   "metadata": {},
   "source": [
    "Given a string(Given in the way of char array) and an offset, rotate the string by offset in place. (rotate from left to right)."
   ]
  },
  {
   "cell_type": "markdown",
   "metadata": {},
   "source": [
    "## Split Solution"
   ]
  },
  {
   "cell_type": "markdown",
   "metadata": {},
   "source": [
    "We exchange the position of the last __offset__ chars and the first __(n-offset)__ chars\n",
    "\n",
    "The result is the same as rotate the string __offset__ times;"
   ]
  },
  {
   "cell_type": "markdown",
   "metadata": {},
   "source": [
    "**Time Complexity: O(1)**"
   ]
  },
  {
   "cell_type": "code",
   "execution_count": 5,
   "metadata": {},
   "outputs": [],
   "source": [
    "class Solution:\n",
    "    def rotateString(self, s, offset):\n",
    "        n = len(s)\n",
    "        if n== 0:\n",
    "            return s;\n",
    "        offset = offset % n;\n",
    "        left = s[:n-offset];\n",
    "        right = s[n-offset:];\n",
    "        for i in range(n):\n",
    "            s[i] = (right + left)[i]\n",
    "        return "
   ]
  },
  {
   "cell_type": "code",
   "execution_count": 10,
   "metadata": {},
   "outputs": [
    {
     "name": "stdout",
     "output_type": "stream",
     "text": [
      "['u', 'c', 'k', 'W', 'h', 'a', 't', ' ', 't', 'h', 'e', ' ', 'f']\n"
     ]
    }
   ],
   "source": [
    "s = Solution();\n",
    "t = list(\"What the fuck\");\n",
    "s.rotateString(t, 3)\n",
    "print(t)"
   ]
  }
 ],
 "metadata": {
  "kernelspec": {
   "display_name": "Python 3",
   "language": "python",
   "name": "python3"
  },
  "language_info": {
   "codemirror_mode": {
    "name": "ipython",
    "version": 3
   },
   "file_extension": ".py",
   "mimetype": "text/x-python",
   "name": "python",
   "nbconvert_exporter": "python",
   "pygments_lexer": "ipython3",
   "version": "3.7.1"
  }
 },
 "nbformat": 4,
 "nbformat_minor": 2
}
