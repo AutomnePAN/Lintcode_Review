{
 "cells": [
  {
   "cell_type": "markdown",
   "metadata": {},
   "source": [
    "# Flatten List\n",
    "---------------------------------------"
   ]
  },
  {
   "cell_type": "markdown",
   "metadata": {},
   "source": [
    "Given a list, each element in the list can be a list or integer. flatten it into a simply list with integers."
   ]
  },
  {
   "cell_type": "markdown",
   "metadata": {},
   "source": [
    "## Recursive Solution"
   ]
  },
  {
   "cell_type": "markdown",
   "metadata": {},
   "source": [
    "We try to flatten the list element by element. If the $i^{th}$ is a number, we append the result list by this number, else if the $i^{th}$ element is a list, we flatten the list recursive "
   ]
  },
  {
   "cell_type": "markdown",
   "metadata": {},
   "source": [
    "**Time Complexity: $O(n)$**"
   ]
  },
  {
   "cell_type": "code",
   "execution_count": 7,
   "metadata": {},
   "outputs": [],
   "source": [
    "class Solution(object):\n",
    "\n",
    "    # @param nestedList a list, each element in the list \n",
    "    # can be a list or integer, for example [1,2,[1,2]]\n",
    "    # @return {int[]} a list of integer\n",
    "    def flatten(self, nestedList):\n",
    "        # Write your code here\n",
    "        n = len(nestedList)\n",
    "        if n == 0:\n",
    "            return [];\n",
    "        \n",
    "        if n == 1:\n",
    "            if isinstance( nestedList[0], int ):\n",
    "                return [nestedList[0]];\n",
    "            if isinstance(nestedList[0], list):\n",
    "                return self.flatten(nestedList[0]);\n",
    "        \n",
    "        res = [];\n",
    "        for i in range(n):\n",
    "            res = res + self.flatten([nestedList[i]])\n",
    "        return res"
   ]
  },
  {
   "cell_type": "code",
   "execution_count": 17,
   "metadata": {},
   "outputs": [
    {
     "data": {
      "text/plain": [
       "[1, 1, 2, 3, 4, 2, 3, 4, 5, 6, 7, 8]"
      ]
     },
     "execution_count": 17,
     "metadata": {},
     "output_type": "execute_result"
    }
   ],
   "source": [
    "s = Solution()\n",
    "s.flatten([[[1],[1,2,3,4],[2,3,4,5,6,7,8]]])"
   ]
  },
  {
   "cell_type": "markdown",
   "metadata": {},
   "source": [
    "## Iterative Solution"
   ]
  },
  {
   "cell_type": "code",
   "execution_count": 16,
   "metadata": {},
   "outputs": [],
   "source": [
    "class Solution(object):\n",
    "\n",
    "    # @param nestedList a list, each element in the list \n",
    "    # can be a list or integer, for example [1,2,[1,2]]\n",
    "    # @return {int[]} a list of integer\n",
    "    def flatten(self, nestedList):\n",
    "        stack = nestedList;\n",
    "        res = []\n",
    "        while(len(stack) > 0):\n",
    "            top = stack.pop();\n",
    "            if isinstance(top, int):\n",
    "                res.append(top);\n",
    "            elif isinstance(top, list):\n",
    "                for e in top:\n",
    "                    stack.append(e);\n",
    "        res.reverse()\n",
    "        return res;"
   ]
  }
 ],
 "metadata": {
  "kernelspec": {
   "display_name": "Python37",
   "language": "python",
   "name": "python37"
  },
  "language_info": {
   "codemirror_mode": {
    "name": "ipython",
    "version": 3
   },
   "file_extension": ".py",
   "mimetype": "text/x-python",
   "name": "python",
   "nbconvert_exporter": "python",
   "pygments_lexer": "ipython3",
   "version": "3.7.4"
  }
 },
 "nbformat": 4,
 "nbformat_minor": 2
}
