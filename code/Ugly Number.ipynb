{
 "cells": [
  {
   "cell_type": "markdown",
   "metadata": {},
   "source": [
    "## Ugly Number"
   ]
  },
  {
   "cell_type": "markdown",
   "metadata": {},
   "source": [
    "Ugly number is a number that only have prime factors 2, 3 and 5.\n",
    "\n",
    "Design an algorithm to find the nth ugly number. The first 10 ugly numbers are 1, 2, 3, 4, 5, 6, 8, 9, 10, 12..."
   ]
  },
  {
   "cell_type": "markdown",
   "metadata": {},
   "source": [
    "## Trival Solution"
   ]
  },
  {
   "cell_type": "markdown",
   "metadata": {},
   "source": [
    "Using dynamic programmming. To find the dp[n], we multiply dp[1:n-1] by 2, 3 and 5 and select those who is larger than dp[-1]. \n",
    "\n",
    "Then dp[n] is the minimum of the candidats  "
   ]
  },
  {
   "cell_type": "markdown",
   "metadata": {},
   "source": [
    "**Time Complexity: $O(n^2)$**"
   ]
  },
  {
   "cell_type": "code",
   "execution_count": 11,
   "metadata": {},
   "outputs": [],
   "source": [
    "class Solution_1:\n",
    "    \"\"\"\n",
    "    @param n: An integer\n",
    "    @return: return a  integer as description.\n",
    "    \"\"\"\n",
    "    def nthUglyNumber(self, n):\n",
    "        # write your code here\n",
    "        if n == 1:\n",
    "            return 1;\n",
    "        dp = [1];\n",
    "        \n",
    "        for i in range(1,n):\n",
    "            last = dp[-1];\n",
    "            cands = [];\n",
    "            for n in dp:\n",
    "                for p in [2,3,5]:\n",
    "                    if n * p > last:\n",
    "                        cands.append(n * p);\n",
    "            dp.append(min(cands));\n",
    "        return dp[-1]\n",
    "                    "
   ]
  },
  {
   "cell_type": "code",
   "execution_count": 13,
   "metadata": {},
   "outputs": [
    {
     "data": {
      "text/plain": [
       "2214337500"
      ]
     },
     "execution_count": 13,
     "metadata": {},
     "output_type": "execute_result"
    }
   ],
   "source": [
    "s = Solution_1();\n",
    "s.nthUglyNumber(1700)"
   ]
  },
  {
   "cell_type": "markdown",
   "metadata": {},
   "source": [
    "## Solution using Heap"
   ]
  },
  {
   "cell_type": "markdown",
   "metadata": {},
   "source": [
    "Heap is a data structure equivalent to a binary tree;\n",
    "\n",
    "So we establish on heap to stock the ugly numbers. Each time of the traversal from 1 to n, we pop the smallest ugly number from the heap, and add $2 * val, 3 * val, 5 * val$ to the heap"
   ]
  },
  {
   "cell_type": "markdown",
   "metadata": {},
   "source": [
    "**Time Complexity: $O(n\\log n)$**"
   ]
  },
  {
   "cell_type": "code",
   "execution_count": 26,
   "metadata": {},
   "outputs": [],
   "source": [
    "import heapq\n",
    "\n",
    "class Solution_2:\n",
    "    \"\"\"\n",
    "    @param n: An integer\n",
    "    @return: return a  integer as description.\n",
    "    \"\"\"\n",
    "    def nthUglyNumber(self, n):\n",
    "        # write your code here\n",
    "        heap = [1]\n",
    "#       set \"visited\" to stock the number all the ugly numbers;\n",
    "        visited = set([1])\n",
    "    \n",
    "        for i in range(n):\n",
    "            val = heapq.heappop(heap);\n",
    "            for f in [2,3,5]:\n",
    "                if f * val not in visited:\n",
    "                    visited.add(f*val);\n",
    "                    heapq.heappush(heap, f*val)\n",
    "#         print(visited)\n",
    "        return val;"
   ]
  },
  {
   "cell_type": "code",
   "execution_count": 28,
   "metadata": {},
   "outputs": [
    {
     "data": {
      "text/plain": [
       "288325195312500000"
      ]
     },
     "execution_count": 28,
     "metadata": {},
     "output_type": "execute_result"
    }
   ],
   "source": [
    "s= Solution_2();\n",
    "s.nthUglyNumber(10000)"
   ]
  },
  {
   "cell_type": "code",
   "execution_count": null,
   "metadata": {},
   "outputs": [],
   "source": []
  }
 ],
 "metadata": {
  "kernelspec": {
   "display_name": "Python 3",
   "language": "python",
   "name": "python3"
  },
  "language_info": {
   "codemirror_mode": {
    "name": "ipython",
    "version": 3
   },
   "file_extension": ".py",
   "mimetype": "text/x-python",
   "name": "python",
   "nbconvert_exporter": "python",
   "pygments_lexer": "ipython3",
   "version": "3.7.1"
  }
 },
 "nbformat": 4,
 "nbformat_minor": 2
}
